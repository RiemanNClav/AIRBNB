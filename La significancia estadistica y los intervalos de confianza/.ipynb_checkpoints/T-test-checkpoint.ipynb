{
 "cells": [
  {
   "cell_type": "code",
   "execution_count": 3,
   "id": "246907e6",
   "metadata": {},
   "outputs": [],
   "source": [
    "import os \n",
    "import pandas as pd \n",
    "import numpy as np \n",
    "# libreria para prueba t\n",
    "from scipy.stats import ttest_ind"
   ]
  },
  {
   "cell_type": "code",
   "execution_count": 4,
   "id": "b602a9bc",
   "metadata": {},
   "outputs": [],
   "source": [
    "data = pd.read_csv('C:/Users/XMX5634/Documents/Introduccion Ciencia de Datos Aplicada/Estadistica Univariada/Ordenes.csv', sep = ';',\n",
    "                encoding='latin-1')"
   ]
  },
  {
   "cell_type": "markdown",
   "id": "ca95574c",
   "metadata": {},
   "source": [
    "prueba t-test \n",
    "\n",
    "La prueba t de muestras independientes o la prueba t de 2 muestras compara la media de dos grupos independientes para determinar si existe evidencia estadistica de que las medias poblacionales asociadas son significativamente diferentes. La prueba t de muestras independientes es una prueba parametrica. Esta prueba tambien se conoce como: Prueba t independiente. "
   ]
  },
  {
   "cell_type": "code",
   "execution_count": 6,
   "id": "c576aa61",
   "metadata": {},
   "outputs": [
    {
     "data": {
      "text/plain": [
       "<AxesSubplot:xlabel='departamento_vendedor'>"
      ]
     },
     "execution_count": 6,
     "metadata": {},
     "output_type": "execute_result"
    },
    {
     "data": {
      "image/png": "[encoded data removed]",
      "text/plain": [
       "<Figure size 432x288 with 1 Axes>"
      ]
     },
     "metadata": {
      "needs_background": "light"
     },
     "output_type": "display_data"
    }
   ],
   "source": [
    "# Buscar la media de departamentos \n",
    "data_flete = data.groupby('departamento_vendedor').mean().reset_index()[['departamento_vendedor', 'valor_flete']]\n",
    "#graficar los deps por departamento\n",
    "data_flete.plot.bar(x='departamento_vendedor', y = 'valor_flete')"
   ]
  },
  {
   "cell_type": "markdown",
   "id": "d8e4930a",
   "metadata": {},
   "source": [
    " Vamos a analizar la diferencia entre la media de las dos ciudades elegidas en el notebook anterior para realizar una comparacion conceptual ya que la prueba t es una prueba no parametrica: \n",
    "* H0: El promedio de los dos grupos son iguales\n",
    "* H1: El promedio de los dos grupos No son iguales\n"
   ]
  },
  {
   "cell_type": "code",
   "execution_count": 19,
   "id": "06374e29",
   "metadata": {},
   "outputs": [
    {
     "name": "stdout",
     "output_type": "stream",
     "text": [
      "Promdedio GO: 22.36814814814815\n",
      "Promdedio MA: 13.67178571428571\n"
     ]
    }
   ],
   "source": [
    "flete_g = data[data['departamento_vendedor'] == 'Magdalena']['valor_flete']\n",
    "flete_v = data[data['departamento_vendedor'] == 'Putumayo']['valor_flete']\n",
    "print('Promdedio GO: ' +str(flete_g.mean()))\n",
    "print('Promdedio MA: ' +str(flete_v.mean()))"
   ]
  },
  {
   "cell_type": "code",
   "execution_count": 20,
   "id": "d69ba20f",
   "metadata": {},
   "outputs": [
    {
     "name": "stdout",
     "output_type": "stream",
     "text": [
      "Valor de t: 1.4356245487908235\n",
      "Promdedio de p: 0.15698509625228743\n"
     ]
    }
   ],
   "source": [
    "# valor de t y p \n",
    "ttest, pval = ttest_ind(flete_g,flete_v)\n",
    "print('Valor de t: ' +str(ttest))\n",
    "print('Promdedio de p: ' +str(pval))"
   ]
  },
  {
   "cell_type": "code",
   "execution_count": 21,
   "id": "c67db023",
   "metadata": {},
   "outputs": [
    {
     "name": "stdout",
     "output_type": "stream",
     "text": [
      "No rechazar hipótesis nula\n"
     ]
    }
   ],
   "source": [
    "# Regla de decisión si el p valor es menor que la significancia escogida \n",
    "confianza=0.95\n",
    "significancia=1-confianza\n",
    "# Si se tiene menor valor se rechaza la hipótesis nula\n",
    "if pval<significancia:\n",
    "    print(\"Rechazar hipótesis nula\")\n",
    "else:\n",
    "    print(\"No rechazar hipótesis nula\")"
   ]
  },
  {
   "cell_type": "markdown",
   "id": "60c12308",
   "metadata": {},
   "source": [
    "Podemos inferir que con una confianza del 95% No se rechaza la hipotesis nula, indicandonos que los promedios de los dos grupos son iguales."
   ]
  },
  {
   "cell_type": "code",
   "execution_count": null,
   "id": "cf44222c",
   "metadata": {},
   "outputs": [],
   "source": []
  }
 ],
 "metadata": {
  "kernelspec": {
   "display_name": "Python 3 (ipykernel)",
   "language": "python",
   "name": "python3"
  },
  "language_info": {
   "codemirror_mode": {
    "name": "ipython",
    "version": 3
   },
   "file_extension": ".py",
   "mimetype": "text/x-python",
   "name": "python",
   "nbconvert_exporter": "python",
   "pygments_lexer": "ipython3",
   "version": "3.9.7"
  }
 },
 "nbformat": 4,
 "nbformat_minor": 5
}
