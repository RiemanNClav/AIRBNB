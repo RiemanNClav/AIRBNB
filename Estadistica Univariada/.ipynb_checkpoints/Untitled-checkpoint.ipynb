{
 "cells": [
  {
   "cell_type": "code",
   "execution_count": 37,
   "id": "105c163d",
   "metadata": {},
   "outputs": [],
   "source": [
    "import pandas as pd \n",
    "import os \n",
    "#libreria para el test chi cuadrado \n",
    "from scipy.stats import chi2_contingency\n",
    "from scipy.stats import chi2"
   ]
  },
  {
   "cell_type": "code",
   "execution_count": 3,
   "id": "da980733",
   "metadata": {},
   "outputs": [],
   "source": [
    "df =  pd.read_csv('C:/Users/XMX5634/Documents/Introduccion Ciencia de Datos Aplicada/listings.csv')"
   ]
  },
  {
   "cell_type": "markdown",
   "id": "3a8cabea",
   "metadata": {},
   "source": [
    "Pregunta 1. Si se alquila una habitacion con un puntuaje de revisión entre 80 y 89 puntos, ¿Que porcentajes de las publicaciones, son habitaciones pridadas o casas y apartamentos?"
   ]
  },
  {
   "cell_type": "code",
   "execution_count": 24,
   "id": "cdaceea5",
   "metadata": {},
   "outputs": [],
   "source": [
    "df = df[~df['review_scores_rating'].isnull()]"
   ]
  },
  {
   "cell_type": "code",
   "execution_count": 26,
   "id": "0172de39",
   "metadata": {},
   "outputs": [
    {
     "name": "stderr",
     "output_type": "stream",
     "text": [
      "C:\\Users\\XMX5634\\AppData\\Local\\Temp/ipykernel_14984/2489361561.py:3: SettingWithCopyWarning: \n",
      "A value is trying to be set on a copy of a slice from a DataFrame.\n",
      "Try using .loc[row_indexer,col_indexer] = value instead\n",
      "\n",
      "See the caveats in the documentation: https://pandas.pydata.org/pandas-docs/stable/user_guide/indexing.html#returning-a-view-versus-a-copy\n",
      "  df[\"intervalos\"] = pd.cut(aux[\"review_scores_rating\"], bins=bins)\n"
     ]
    }
   ],
   "source": [
    "bins = list(range(int(min(aux['review_scores_rating'])),int(max(aux['review_scores_rating']))+1,10))\n",
    "\n",
    "df[\"intervalos\"] = pd.cut(aux[\"review_scores_rating\"], bins=bins)\n",
    "\n",
    "\n",
    "review_scores_rating_counts = aux.groupby(\"intervalos\").agg(frequency=(\"review_scores_rating\", \"count\"))"
   ]
  },
  {
   "cell_type": "code",
   "execution_count": 27,
   "id": "09cb099f",
   "metadata": {},
   "outputs": [],
   "source": [
    "df1 = pd.crosstab(aux['intervalos'], df['room_type'], normalize = 'index')"
   ]
  },
  {
   "cell_type": "code",
   "execution_count": 28,
   "id": "b2fd84b3",
   "metadata": {},
   "outputs": [
    {
     "data": {
      "text/html": [
       "<div>\n",
       "<style scoped>\n",
       "    .dataframe tbody tr th:only-of-type {\n",
       "        vertical-align: middle;\n",
       "    }\n",
       "\n",
       "    .dataframe tbody tr th {\n",
       "        vertical-align: top;\n",
       "    }\n",
       "\n",
       "    .dataframe thead th {\n",
       "        text-align: right;\n",
       "    }\n",
       "</style>\n",
       "<table border=\"1\" class=\"dataframe\">\n",
       "  <thead>\n",
       "    <tr style=\"text-align: right;\">\n",
       "      <th>room_type</th>\n",
       "      <th>Entire home/apt</th>\n",
       "      <th>Hotel room</th>\n",
       "      <th>Private room</th>\n",
       "      <th>Shared room</th>\n",
       "    </tr>\n",
       "    <tr>\n",
       "      <th>intervalos</th>\n",
       "      <th></th>\n",
       "      <th></th>\n",
       "      <th></th>\n",
       "      <th></th>\n",
       "    </tr>\n",
       "  </thead>\n",
       "  <tbody>\n",
       "    <tr>\n",
       "      <th>(30, 40]</th>\n",
       "      <td>0.565217</td>\n",
       "      <td>0.000000</td>\n",
       "      <td>0.434783</td>\n",
       "      <td>0.000000</td>\n",
       "    </tr>\n",
       "    <tr>\n",
       "      <th>(40, 50]</th>\n",
       "      <td>0.666667</td>\n",
       "      <td>0.000000</td>\n",
       "      <td>0.333333</td>\n",
       "      <td>0.000000</td>\n",
       "    </tr>\n",
       "    <tr>\n",
       "      <th>(50, 60]</th>\n",
       "      <td>0.731959</td>\n",
       "      <td>0.000000</td>\n",
       "      <td>0.268041</td>\n",
       "      <td>0.000000</td>\n",
       "    </tr>\n",
       "    <tr>\n",
       "      <th>(60, 70]</th>\n",
       "      <td>0.756757</td>\n",
       "      <td>0.000000</td>\n",
       "      <td>0.243243</td>\n",
       "      <td>0.000000</td>\n",
       "    </tr>\n",
       "    <tr>\n",
       "      <th>(70, 80]</th>\n",
       "      <td>0.748971</td>\n",
       "      <td>0.006173</td>\n",
       "      <td>0.242798</td>\n",
       "      <td>0.002058</td>\n",
       "    </tr>\n",
       "    <tr>\n",
       "      <th>(80, 90]</th>\n",
       "      <td>0.713110</td>\n",
       "      <td>0.011170</td>\n",
       "      <td>0.270429</td>\n",
       "      <td>0.005291</td>\n",
       "    </tr>\n",
       "    <tr>\n",
       "      <th>(90, 100]</th>\n",
       "      <td>0.797777</td>\n",
       "      <td>0.005872</td>\n",
       "      <td>0.193690</td>\n",
       "      <td>0.002662</td>\n",
       "    </tr>\n",
       "  </tbody>\n",
       "</table>\n",
       "</div>"
      ],
      "text/plain": [
       "room_type   Entire home/apt  Hotel room  Private room  Shared room\n",
       "intervalos                                                        \n",
       "(30, 40]           0.565217    0.000000      0.434783     0.000000\n",
       "(40, 50]           0.666667    0.000000      0.333333     0.000000\n",
       "(50, 60]           0.731959    0.000000      0.268041     0.000000\n",
       "(60, 70]           0.756757    0.000000      0.243243     0.000000\n",
       "(70, 80]           0.748971    0.006173      0.242798     0.002058\n",
       "(80, 90]           0.713110    0.011170      0.270429     0.005291\n",
       "(90, 100]          0.797777    0.005872      0.193690     0.002662"
      ]
     },
     "execution_count": 28,
     "metadata": {},
     "output_type": "execute_result"
    }
   ],
   "source": [
    "df1"
   ]
  },
  {
   "cell_type": "markdown",
   "id": "42671d4f",
   "metadata": {},
   "source": [
    "Resultado = el 98% "
   ]
  },
  {
   "cell_type": "markdown",
   "id": "ab852dc6",
   "metadata": {},
   "source": [
    "Pregunta 2. Si se alquila una casa o un apartamento ¿Que porcentaje de las publicaciones en Airbnb poseen un puntuaje entre 80 y 100 puntos de revisión"
   ]
  },
  {
   "cell_type": "code",
   "execution_count": 31,
   "id": "42f5e5f6",
   "metadata": {},
   "outputs": [
    {
     "data": {
      "text/html": [
       "<div>\n",
       "<style scoped>\n",
       "    .dataframe tbody tr th:only-of-type {\n",
       "        vertical-align: middle;\n",
       "    }\n",
       "\n",
       "    .dataframe tbody tr th {\n",
       "        vertical-align: top;\n",
       "    }\n",
       "\n",
       "    .dataframe thead th {\n",
       "        text-align: right;\n",
       "    }\n",
       "</style>\n",
       "<table border=\"1\" class=\"dataframe\">\n",
       "  <thead>\n",
       "    <tr style=\"text-align: right;\">\n",
       "      <th>room_type</th>\n",
       "      <th>Entire home/apt</th>\n",
       "      <th>Hotel room</th>\n",
       "      <th>Private room</th>\n",
       "      <th>Shared room</th>\n",
       "      <th>All</th>\n",
       "    </tr>\n",
       "    <tr>\n",
       "      <th>intervalos</th>\n",
       "      <th></th>\n",
       "      <th></th>\n",
       "      <th></th>\n",
       "      <th></th>\n",
       "      <th></th>\n",
       "    </tr>\n",
       "  </thead>\n",
       "  <tbody>\n",
       "    <tr>\n",
       "      <th>(30, 40]</th>\n",
       "      <td>0.001091</td>\n",
       "      <td>0.000000</td>\n",
       "      <td>0.003216</td>\n",
       "      <td>0.000000</td>\n",
       "      <td>0.001517</td>\n",
       "    </tr>\n",
       "    <tr>\n",
       "      <th>(40, 50]</th>\n",
       "      <td>0.000504</td>\n",
       "      <td>0.000000</td>\n",
       "      <td>0.000965</td>\n",
       "      <td>0.000000</td>\n",
       "      <td>0.000594</td>\n",
       "    </tr>\n",
       "    <tr>\n",
       "      <th>(50, 60]</th>\n",
       "      <td>0.005960</td>\n",
       "      <td>0.000000</td>\n",
       "      <td>0.008363</td>\n",
       "      <td>0.000000</td>\n",
       "      <td>0.006397</td>\n",
       "    </tr>\n",
       "    <tr>\n",
       "      <th>(60, 70]</th>\n",
       "      <td>0.004701</td>\n",
       "      <td>0.000000</td>\n",
       "      <td>0.005790</td>\n",
       "      <td>0.000000</td>\n",
       "      <td>0.004880</td>\n",
       "    </tr>\n",
       "    <tr>\n",
       "      <th>(70, 80]</th>\n",
       "      <td>0.030555</td>\n",
       "      <td>0.030928</td>\n",
       "      <td>0.037954</td>\n",
       "      <td>0.022727</td>\n",
       "      <td>0.032052</td>\n",
       "    </tr>\n",
       "    <tr>\n",
       "      <th>(80, 90]</th>\n",
       "      <td>0.101822</td>\n",
       "      <td>0.195876</td>\n",
       "      <td>0.147958</td>\n",
       "      <td>0.204545</td>\n",
       "      <td>0.112181</td>\n",
       "    </tr>\n",
       "    <tr>\n",
       "      <th>(90, 100]</th>\n",
       "      <td>0.855368</td>\n",
       "      <td>0.773196</td>\n",
       "      <td>0.795754</td>\n",
       "      <td>0.772727</td>\n",
       "      <td>0.842379</td>\n",
       "    </tr>\n",
       "  </tbody>\n",
       "</table>\n",
       "</div>"
      ],
      "text/plain": [
       "room_type   Entire home/apt  Hotel room  Private room  Shared room       All\n",
       "intervalos                                                                  \n",
       "(30, 40]           0.001091    0.000000      0.003216     0.000000  0.001517\n",
       "(40, 50]           0.000504    0.000000      0.000965     0.000000  0.000594\n",
       "(50, 60]           0.005960    0.000000      0.008363     0.000000  0.006397\n",
       "(60, 70]           0.004701    0.000000      0.005790     0.000000  0.004880\n",
       "(70, 80]           0.030555    0.030928      0.037954     0.022727  0.032052\n",
       "(80, 90]           0.101822    0.195876      0.147958     0.204545  0.112181\n",
       "(90, 100]          0.855368    0.773196      0.795754     0.772727  0.842379"
      ]
     },
     "execution_count": 31,
     "metadata": {},
     "output_type": "execute_result"
    }
   ],
   "source": [
    "df2 = pd.crosstab(aux['intervalos'], df['room_type'], normalize = 'columns', margins = True)\n",
    "df2"
   ]
  },
  {
   "cell_type": "markdown",
   "id": "42b1a0bd",
   "metadata": {},
   "source": [
    "Respuesta: el 95% aprox"
   ]
  },
  {
   "cell_type": "markdown",
   "id": "c4a24a7b",
   "metadata": {},
   "source": [
    "¿Existe independencia entre type_room y review_scores?"
   ]
  },
  {
   "cell_type": "code",
   "execution_count": 35,
   "id": "345b8fbf",
   "metadata": {},
   "outputs": [
    {
     "data": {
      "text/html": [
       "<div>\n",
       "<style scoped>\n",
       "    .dataframe tbody tr th:only-of-type {\n",
       "        vertical-align: middle;\n",
       "    }\n",
       "\n",
       "    .dataframe tbody tr th {\n",
       "        vertical-align: top;\n",
       "    }\n",
       "\n",
       "    .dataframe thead th {\n",
       "        text-align: right;\n",
       "    }\n",
       "</style>\n",
       "<table border=\"1\" class=\"dataframe\">\n",
       "  <thead>\n",
       "    <tr style=\"text-align: right;\">\n",
       "      <th>room_type</th>\n",
       "      <th>Entire home/apt</th>\n",
       "      <th>Hotel room</th>\n",
       "      <th>Private room</th>\n",
       "      <th>Shared room</th>\n",
       "      <th>All</th>\n",
       "    </tr>\n",
       "    <tr>\n",
       "      <th>intervalos</th>\n",
       "      <th></th>\n",
       "      <th></th>\n",
       "      <th></th>\n",
       "      <th></th>\n",
       "      <th></th>\n",
       "    </tr>\n",
       "  </thead>\n",
       "  <tbody>\n",
       "    <tr>\n",
       "      <th>(30, 40]</th>\n",
       "      <td>13</td>\n",
       "      <td>0</td>\n",
       "      <td>10</td>\n",
       "      <td>0</td>\n",
       "      <td>23</td>\n",
       "    </tr>\n",
       "    <tr>\n",
       "      <th>(40, 50]</th>\n",
       "      <td>6</td>\n",
       "      <td>0</td>\n",
       "      <td>3</td>\n",
       "      <td>0</td>\n",
       "      <td>9</td>\n",
       "    </tr>\n",
       "    <tr>\n",
       "      <th>(50, 60]</th>\n",
       "      <td>71</td>\n",
       "      <td>0</td>\n",
       "      <td>26</td>\n",
       "      <td>0</td>\n",
       "      <td>97</td>\n",
       "    </tr>\n",
       "    <tr>\n",
       "      <th>(60, 70]</th>\n",
       "      <td>56</td>\n",
       "      <td>0</td>\n",
       "      <td>18</td>\n",
       "      <td>0</td>\n",
       "      <td>74</td>\n",
       "    </tr>\n",
       "    <tr>\n",
       "      <th>(70, 80]</th>\n",
       "      <td>364</td>\n",
       "      <td>3</td>\n",
       "      <td>118</td>\n",
       "      <td>1</td>\n",
       "      <td>486</td>\n",
       "    </tr>\n",
       "    <tr>\n",
       "      <th>(80, 90]</th>\n",
       "      <td>1213</td>\n",
       "      <td>19</td>\n",
       "      <td>460</td>\n",
       "      <td>9</td>\n",
       "      <td>1701</td>\n",
       "    </tr>\n",
       "    <tr>\n",
       "      <th>(90, 100]</th>\n",
       "      <td>10190</td>\n",
       "      <td>75</td>\n",
       "      <td>2474</td>\n",
       "      <td>34</td>\n",
       "      <td>12773</td>\n",
       "    </tr>\n",
       "    <tr>\n",
       "      <th>All</th>\n",
       "      <td>11913</td>\n",
       "      <td>97</td>\n",
       "      <td>3109</td>\n",
       "      <td>44</td>\n",
       "      <td>15163</td>\n",
       "    </tr>\n",
       "  </tbody>\n",
       "</table>\n",
       "</div>"
      ],
      "text/plain": [
       "room_type   Entire home/apt  Hotel room  Private room  Shared room    All\n",
       "intervalos                                                               \n",
       "(30, 40]                 13           0            10            0     23\n",
       "(40, 50]                  6           0             3            0      9\n",
       "(50, 60]                 71           0            26            0     97\n",
       "(60, 70]                 56           0            18            0     74\n",
       "(70, 80]                364           3           118            1    486\n",
       "(80, 90]               1213          19           460            9   1701\n",
       "(90, 100]             10190          75          2474           34  12773\n",
       "All                   11913          97          3109           44  15163"
      ]
     },
     "execution_count": 35,
     "metadata": {},
     "output_type": "execute_result"
    }
   ],
   "source": [
    "df3 = pd.crosstab(aux['intervalos'], df['room_type'], margins = True)\n",
    "df3"
   ]
  },
  {
   "cell_type": "code",
   "execution_count": 38,
   "id": "199d3c2c",
   "metadata": {},
   "outputs": [
    {
     "name": "stdout",
     "output_type": "stream",
     "text": [
      "p-valor es:  1.2704433507242556e-07\n",
      "chi=84.777144, valor critico=41.337138\n",
      "\n",
      " A un 0.05 de nivel de significancia, se rechaza la hipotesis nula y se acepta H1.\n",
      "    no son independientes, por lo tanto no estan correlacionados\n"
     ]
    }
   ],
   "source": [
    "# Establecer los valores del test chi cuadrado\n",
    "chi, pval, dof, exp = chi2_contingency(df3)\n",
    "\n",
    "print('p-valor es: ', pval)\n",
    "\n",
    "#establecer la significancia del test\n",
    "significancia = 0.05\n",
    "p = 1 - significancia\n",
    "#establecer el valor critico \n",
    "valor_critico = chi2.ppf(p, dof)\n",
    "print('chi=%.6f, valor critico=%.6f\\n' % (chi, valor_critico))\n",
    "\n",
    "# segun el valor critico se toma la desición de rechazar o no la hipotesis\n",
    "if chi > valor_critico:\n",
    "    print(''' A un %.2f de nivel de significancia, se rechaza la hipotesis nula y se acepta H1.\n",
    "    no son independientes, por lo tanto no estan correlacionados''' %(significancia))\n",
    "else:\n",
    "        print(''' A un %.2f de nivel de significancia, no se rechaza la hipotesis nula y se acepta H1.\n",
    "    son independientes, no tienen relación''' %(significancia))\n",
    "    "
   ]
  },
  {
   "cell_type": "markdown",
   "id": "fa4d8062",
   "metadata": {},
   "source": [
    "aunque se realice la prueba chi cuadrado, se puede observar que existen varias celdas con valores minimos y por lo tanto la prueba chi no es confiable, por lo tanto no es posible determinar la independencia entre las dos variables."
   ]
  },
  {
   "cell_type": "code",
   "execution_count": null,
   "id": "e9e89d80",
   "metadata": {},
   "outputs": [],
   "source": []
  }
 ],
 "metadata": {
  "kernelspec": {
   "display_name": "Python 3 (ipykernel)",
   "language": "python",
   "name": "python3"
  },
  "language_info": {
   "codemirror_mode": {
    "name": "ipython",
    "version": 3
   },
   "file_extension": ".py",
   "mimetype": "text/x-python",
   "name": "python",
   "nbconvert_exporter": "python",
   "pygments_lexer": "ipython3",
   "version": "3.9.7"
  }
 },
 "nbformat": 4,
 "nbformat_minor": 5
}
