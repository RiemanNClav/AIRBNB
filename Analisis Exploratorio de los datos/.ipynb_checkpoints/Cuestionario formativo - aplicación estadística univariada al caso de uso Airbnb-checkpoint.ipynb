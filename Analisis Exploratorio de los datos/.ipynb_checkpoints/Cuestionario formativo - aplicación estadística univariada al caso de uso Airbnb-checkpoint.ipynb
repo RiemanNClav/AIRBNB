{
 "cells": [
  {
   "cell_type": "code",
   "execution_count": 42,
   "id": "f3d2161f",
   "metadata": {},
   "outputs": [],
   "source": [
    "import pandas as pd"
   ]
  },
  {
   "cell_type": "code",
   "execution_count": 43,
   "id": "f7ce2055",
   "metadata": {},
   "outputs": [],
   "source": [
    "df =  pd.read_csv('C:/Users/XMX5634/Documents/Introduccion Ciencia de Datos Aplicada/listings.csv')"
   ]
  },
  {
   "cell_type": "markdown",
   "id": "fc7906b7",
   "metadata": {},
   "source": [
    "# 1. ¿Entre que puntajes está a lo mas el 53% de las calificaciones de revisión más bajas de la plataforma?"
   ]
  },
  {
   "cell_type": "code",
   "execution_count": 76,
   "id": "4d40048c",
   "metadata": {},
   "outputs": [],
   "source": [
    "aux = df[~df['review_scores_rating'].isnull()]\n",
    "aux = aux[['review_scores_rating']]"
   ]
  },
  {
   "cell_type": "code",
   "execution_count": 85,
   "id": "ef4711bb",
   "metadata": {},
   "outputs": [],
   "source": [
    "#construir una tabla de frecuencias. \n",
    "bins = list(range(int(min(aux['review_scores_rating'])),int(max(aux['review_scores_rating']))+1,6))\n",
    "\n",
    "aux[\"intervalos\"] = pd.cut(aux[\"review_scores_rating\"], bins=bins)\n",
    "\n",
    "\n",
    "review_scores_rating_counts = (aux\n",
    "                       .groupby(\"intervalos\")\n",
    "                       .agg(frequency=(\"review_scores_rating\", \"count\")))\n",
    "\n",
    "review_scores_rating_counts['frec_relativa'] = review_scores_rating_counts['frequency'].apply(lambda x: x/review_scores_rating_counts['frequency'].sum())\n",
    "review_scores_rating_counts['frec_relativa(%)'] = review_scores_rating_counts['frec_relativa'].apply( lambda x: x*100)\n",
    "review_scores_rating_counts[\"frec_acumulada\"] = review_scores_rating_counts[\"frequency\"].cumsum()\n",
    "review_scores_rating_counts[\"frec_acumulada(%)\"] = review_scores_rating_counts[\"frec_acumulada\"].apply(lambda x:(x/review_scores_rating_counts['frequency'].sum())*100)"
   ]
  },
  {
   "cell_type": "code",
   "execution_count": 86,
   "id": "1c4d20f0",
   "metadata": {},
   "outputs": [
    {
     "data": {
      "text/html": [
       "<div>\n",
       "<style scoped>\n",
       "    .dataframe tbody tr th:only-of-type {\n",
       "        vertical-align: middle;\n",
       "    }\n",
       "\n",
       "    .dataframe tbody tr th {\n",
       "        vertical-align: top;\n",
       "    }\n",
       "\n",
       "    .dataframe thead th {\n",
       "        text-align: right;\n",
       "    }\n",
       "</style>\n",
       "<table border=\"1\" class=\"dataframe\">\n",
       "  <thead>\n",
       "    <tr style=\"text-align: right;\">\n",
       "      <th></th>\n",
       "      <th>frequency</th>\n",
       "      <th>frec_relativa</th>\n",
       "      <th>frec_relativa(%)</th>\n",
       "      <th>frec_acumulada</th>\n",
       "      <th>frec_acumulada(%)</th>\n",
       "    </tr>\n",
       "    <tr>\n",
       "      <th>intervalos</th>\n",
       "      <th></th>\n",
       "      <th></th>\n",
       "      <th></th>\n",
       "      <th></th>\n",
       "      <th></th>\n",
       "    </tr>\n",
       "  </thead>\n",
       "  <tbody>\n",
       "    <tr>\n",
       "      <th>(20, 26]</th>\n",
       "      <td>0</td>\n",
       "      <td>0.000000</td>\n",
       "      <td>0.000000</td>\n",
       "      <td>0</td>\n",
       "      <td>0.000000</td>\n",
       "    </tr>\n",
       "    <tr>\n",
       "      <th>(26, 32]</th>\n",
       "      <td>1</td>\n",
       "      <td>0.000104</td>\n",
       "      <td>0.010363</td>\n",
       "      <td>1</td>\n",
       "      <td>0.010363</td>\n",
       "    </tr>\n",
       "    <tr>\n",
       "      <th>(32, 38]</th>\n",
       "      <td>0</td>\n",
       "      <td>0.000000</td>\n",
       "      <td>0.000000</td>\n",
       "      <td>1</td>\n",
       "      <td>0.010363</td>\n",
       "    </tr>\n",
       "    <tr>\n",
       "      <th>(38, 44]</th>\n",
       "      <td>22</td>\n",
       "      <td>0.002280</td>\n",
       "      <td>0.227979</td>\n",
       "      <td>23</td>\n",
       "      <td>0.238342</td>\n",
       "    </tr>\n",
       "    <tr>\n",
       "      <th>(44, 50]</th>\n",
       "      <td>9</td>\n",
       "      <td>0.000933</td>\n",
       "      <td>0.093264</td>\n",
       "      <td>32</td>\n",
       "      <td>0.331606</td>\n",
       "    </tr>\n",
       "    <tr>\n",
       "      <th>(50, 56]</th>\n",
       "      <td>3</td>\n",
       "      <td>0.000311</td>\n",
       "      <td>0.031088</td>\n",
       "      <td>35</td>\n",
       "      <td>0.362694</td>\n",
       "    </tr>\n",
       "    <tr>\n",
       "      <th>(56, 62]</th>\n",
       "      <td>94</td>\n",
       "      <td>0.009741</td>\n",
       "      <td>0.974093</td>\n",
       "      <td>129</td>\n",
       "      <td>1.336788</td>\n",
       "    </tr>\n",
       "    <tr>\n",
       "      <th>(62, 68]</th>\n",
       "      <td>31</td>\n",
       "      <td>0.003212</td>\n",
       "      <td>0.321244</td>\n",
       "      <td>160</td>\n",
       "      <td>1.658031</td>\n",
       "    </tr>\n",
       "    <tr>\n",
       "      <th>(68, 74]</th>\n",
       "      <td>80</td>\n",
       "      <td>0.008290</td>\n",
       "      <td>0.829016</td>\n",
       "      <td>240</td>\n",
       "      <td>2.487047</td>\n",
       "    </tr>\n",
       "    <tr>\n",
       "      <th>(74, 80]</th>\n",
       "      <td>449</td>\n",
       "      <td>0.046528</td>\n",
       "      <td>4.652850</td>\n",
       "      <td>689</td>\n",
       "      <td>7.139896</td>\n",
       "    </tr>\n",
       "    <tr>\n",
       "      <th>(80, 86]</th>\n",
       "      <td>443</td>\n",
       "      <td>0.045907</td>\n",
       "      <td>4.590674</td>\n",
       "      <td>1132</td>\n",
       "      <td>11.730570</td>\n",
       "    </tr>\n",
       "    <tr>\n",
       "      <th>(86, 92]</th>\n",
       "      <td>2037</td>\n",
       "      <td>0.211088</td>\n",
       "      <td>21.108808</td>\n",
       "      <td>3169</td>\n",
       "      <td>32.839378</td>\n",
       "    </tr>\n",
       "    <tr>\n",
       "      <th>(92, 98]</th>\n",
       "      <td>6481</td>\n",
       "      <td>0.671606</td>\n",
       "      <td>67.160622</td>\n",
       "      <td>9650</td>\n",
       "      <td>100.000000</td>\n",
       "    </tr>\n",
       "  </tbody>\n",
       "</table>\n",
       "</div>"
      ],
      "text/plain": [
       "            frequency  frec_relativa  frec_relativa(%)  frec_acumulada  \\\n",
       "intervalos                                                               \n",
       "(20, 26]            0       0.000000          0.000000               0   \n",
       "(26, 32]            1       0.000104          0.010363               1   \n",
       "(32, 38]            0       0.000000          0.000000               1   \n",
       "(38, 44]           22       0.002280          0.227979              23   \n",
       "(44, 50]            9       0.000933          0.093264              32   \n",
       "(50, 56]            3       0.000311          0.031088              35   \n",
       "(56, 62]           94       0.009741          0.974093             129   \n",
       "(62, 68]           31       0.003212          0.321244             160   \n",
       "(68, 74]           80       0.008290          0.829016             240   \n",
       "(74, 80]          449       0.046528          4.652850             689   \n",
       "(80, 86]          443       0.045907          4.590674            1132   \n",
       "(86, 92]         2037       0.211088         21.108808            3169   \n",
       "(92, 98]         6481       0.671606         67.160622            9650   \n",
       "\n",
       "            frec_acumulada(%)  \n",
       "intervalos                     \n",
       "(20, 26]             0.000000  \n",
       "(26, 32]             0.010363  \n",
       "(32, 38]             0.010363  \n",
       "(38, 44]             0.238342  \n",
       "(44, 50]             0.331606  \n",
       "(50, 56]             0.362694  \n",
       "(56, 62]             1.336788  \n",
       "(62, 68]             1.658031  \n",
       "(68, 74]             2.487047  \n",
       "(74, 80]             7.139896  \n",
       "(80, 86]            11.730570  \n",
       "(86, 92]            32.839378  \n",
       "(92, 98]           100.000000  "
      ]
     },
     "execution_count": 86,
     "metadata": {},
     "output_type": "execute_result"
    }
   ],
   "source": [
    "review_scores_rating_counts"
   ]
  },
  {
   "cell_type": "markdown",
   "id": "a9873c40",
   "metadata": {},
   "source": [
    "# 2. ¿Cuál es el precio promedio de alquiler de un inmueble qué se situé por encima del 78%? "
   ]
  },
  {
   "cell_type": "code",
   "execution_count": 44,
   "id": "2a82a282",
   "metadata": {},
   "outputs": [],
   "source": [
    "p = df[ ~(df['price'].isnull()) & (df['price'] != 0) ]"
   ]
  },
  {
   "cell_type": "code",
   "execution_count": 18,
   "id": "4ed56d96",
   "metadata": {},
   "outputs": [],
   "source": [
    "# Tabla de Percentiles \n",
    "# Rango Intercuartilico \n",
    "percentiles = list(map(lambda x: price['price'].quantile(x/100), list(range(1,101,1))))\n",
    "percentiles = pd.DataFrame({'Percentil' : list(range(1,101,1)),\n",
    "                            'Price' : percentiles\n",
    "                            }"
   ]
  },
  {
   "cell_type": "code",
   "execution_count": 36,
   "id": "54970dc4",
   "metadata": {},
   "outputs": [],
   "source": [
    "perc_78 = int(percentiles.loc[78,['Price']][0])"
   ]
  },
  {
   "cell_type": "code",
   "execution_count": 41,
   "id": "8c3a043f",
   "metadata": {},
   "outputs": [
    {
     "data": {
      "text/plain": [
       "price    305.553209\n",
       "dtype: float64"
      ]
     },
     "execution_count": 41,
     "metadata": {},
     "output_type": "execute_result"
    }
   ],
   "source": [
    "price[price['price'] >  perc_78][['price']].mean()"
   ]
  },
  {
   "cell_type": "markdown",
   "id": "0c6cf1d6",
   "metadata": {},
   "source": [
    "# 3. ¿Qué porcentaje de inmuebles en la ciudad se alquilan por debajo del promedio de la ciudad? "
   ]
  },
  {
   "cell_type": "code",
   "execution_count": 51,
   "id": "6cefbc03",
   "metadata": {
    "scrolled": true
   },
   "outputs": [
    {
     "name": "stdout",
     "output_type": "stream",
     "text": [
      "mean down: 0.6600033690830479, mean up: 0.33898590600258294 \n"
     ]
    }
   ],
   "source": [
    "promedio = int(p[['price']].mean()[0])\n",
    "down = p[p['price'] < promedio].shape[0]\n",
    "up = p[p['price'] > promedio].shape[0]\n",
    "\n",
    "print('mean down: {}, mean up: {} '.format(down/p.shape[0], up/p.shape[0]))"
   ]
  },
  {
   "cell_type": "markdown",
   "id": "ef49812b",
   "metadata": {},
   "source": [
    "# 4. Se desea alquilar un inmueble en la ciudad de Ámsterdam que sea 100 euros más costoso que el promedio distrital, ¿a cuantas desviaciones estaría este inmueble del promedio global?"
   ]
  },
  {
   "cell_type": "code",
   "execution_count": 60,
   "id": "4af707dd",
   "metadata": {},
   "outputs": [],
   "source": [
    "promedio = p['price'].mean()\n",
    "desv_estandar = p['price'].std()\n",
    "promedio_plus_desv = promedio + desv_estandar\n",
    "promedio_plus_100 = promedio + 100\n"
   ]
  },
  {
   "cell_type": "code",
   "execution_count": 63,
   "id": "4683ec16",
   "metadata": {},
   "outputs": [
    {
     "name": "stdout",
     "output_type": "stream",
     "text": [
      "154.6346790948397\n",
      "308.79688269616054\n",
      "254.6346790948397\n"
     ]
    }
   ],
   "source": [
    "print(promedio)\n",
    "print(promedio_plus_desv)\n",
    "print(promedio_plus_100)"
   ]
  },
  {
   "cell_type": "markdown",
   "id": "cb78222f",
   "metadata": {},
   "source": [
    "# Conclusiones\n",
    "\n",
    "El 53% de los puntajes de revisión están entre 20 y 98 puntos, en cuanto a los precios de alquiler a nivel global se posee un promedio de 154 euros y el 66% de las publicaciones se mantienen por debajo de este precio. \n",
    "\n"
   ]
  },
  {
   "cell_type": "code",
   "execution_count": null,
   "id": "c2e6088e",
   "metadata": {},
   "outputs": [],
   "source": []
  }
 ],
 "metadata": {
  "kernelspec": {
   "display_name": "Python 3 (ipykernel)",
   "language": "python",
   "name": "python3"
  },
  "language_info": {
   "codemirror_mode": {
    "name": "ipython",
    "version": 3
   },
   "file_extension": ".py",
   "mimetype": "text/x-python",
   "name": "python",
   "nbconvert_exporter": "python",
   "pygments_lexer": "ipython3",
   "version": "3.9.7"
  }
 },
 "nbformat": 4,
 "nbformat_minor": 5
}
